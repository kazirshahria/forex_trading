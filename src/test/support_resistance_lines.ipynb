{
 "cells": [
  {
   "cell_type": "markdown",
   "id": "239f2bd0",
   "metadata": {},
   "source": [
    "# Support And Resistance Lines\n",
    "\n",
    "## Overview\n",
    "\n",
    "Looking at a candlestick chart can be overwhelming and confusing. Patterns and trends are not clear, and can be misinterpreted. This is why drawing support and resistance (S&R) lines are important. This allows a trader to pinpoint different zones, highs, lows, and uncover important information.\n",
    "\n",
    "## Define Support\n",
    "\n",
    "As the price moves down, demand may increase as buyers step in. At a certain level, this increased demand can prevent further decline, causing the price to stabilize or bounce. This level is known as the support line.\n",
    "\n",
    "## Define Resistance\n",
    "\n",
    "As the price moves up, demand may decrease while sellers begin to take profits or open positions. At a certain level, this selling pressure can prevent the price from rising further, causing it to fall or consolidate. This level is known as the resistance line."
   ]
  },
  {
   "cell_type": "code",
   "execution_count": 1,
   "id": "c24f3c59",
   "metadata": {},
   "outputs": [],
   "source": [
    "# Yahoo finance api\n",
    "import yfinance as yf\n",
    "\n",
    "# Data manipulation\n",
    "import pandas as pd\n",
    "import numpy as np\n",
    "\n",
    "# Visualization\n",
    "import plotly.graph_objects as go\n",
    "import matplotlib.pyplot as plt\n",
    "import seaborn as sns"
   ]
  },
  {
   "cell_type": "code",
   "execution_count": 2,
   "id": "673f65ce",
   "metadata": {},
   "outputs": [
    {
     "name": "stdout",
     "output_type": "stream",
     "text": [
      "YF.download() has changed argument auto_adjust default to True\n"
     ]
    },
    {
     "data": {
      "text/html": [
       "<div>\n",
       "<style scoped>\n",
       "    .dataframe tbody tr th:only-of-type {\n",
       "        vertical-align: middle;\n",
       "    }\n",
       "\n",
       "    .dataframe tbody tr th {\n",
       "        vertical-align: top;\n",
       "    }\n",
       "\n",
       "    .dataframe thead tr th {\n",
       "        text-align: left;\n",
       "    }\n",
       "\n",
       "    .dataframe thead tr:last-of-type th {\n",
       "        text-align: right;\n",
       "    }\n",
       "</style>\n",
       "<table border=\"1\" class=\"dataframe\">\n",
       "  <thead>\n",
       "    <tr>\n",
       "      <th>Price</th>\n",
       "      <th>Close</th>\n",
       "      <th>High</th>\n",
       "      <th>Low</th>\n",
       "      <th>Open</th>\n",
       "      <th>Volume</th>\n",
       "    </tr>\n",
       "    <tr>\n",
       "      <th>Ticker</th>\n",
       "      <th>EURUSD=X</th>\n",
       "      <th>EURUSD=X</th>\n",
       "      <th>EURUSD=X</th>\n",
       "      <th>EURUSD=X</th>\n",
       "      <th>EURUSD=X</th>\n",
       "    </tr>\n",
       "    <tr>\n",
       "      <th>Datetime</th>\n",
       "      <th></th>\n",
       "      <th></th>\n",
       "      <th></th>\n",
       "      <th></th>\n",
       "      <th></th>\n",
       "    </tr>\n",
       "  </thead>\n",
       "  <tbody>\n",
       "    <tr>\n",
       "      <th>2025-05-11 23:00:00+00:00</th>\n",
       "      <td>1.123091</td>\n",
       "      <td>1.123848</td>\n",
       "      <td>1.122712</td>\n",
       "      <td>1.122965</td>\n",
       "      <td>0</td>\n",
       "    </tr>\n",
       "    <tr>\n",
       "      <th>2025-05-12 00:00:00+00:00</th>\n",
       "      <td>1.124101</td>\n",
       "      <td>1.124101</td>\n",
       "      <td>1.122838</td>\n",
       "      <td>1.123343</td>\n",
       "      <td>0</td>\n",
       "    </tr>\n",
       "    <tr>\n",
       "      <th>2025-05-12 01:00:00+00:00</th>\n",
       "      <td>1.122965</td>\n",
       "      <td>1.124480</td>\n",
       "      <td>1.122712</td>\n",
       "      <td>1.124354</td>\n",
       "      <td>0</td>\n",
       "    </tr>\n",
       "    <tr>\n",
       "      <th>2025-05-12 02:00:00+00:00</th>\n",
       "      <td>1.123217</td>\n",
       "      <td>1.124101</td>\n",
       "      <td>1.122965</td>\n",
       "      <td>1.122965</td>\n",
       "      <td>0</td>\n",
       "    </tr>\n",
       "    <tr>\n",
       "      <th>2025-05-12 03:00:00+00:00</th>\n",
       "      <td>1.123595</td>\n",
       "      <td>1.123722</td>\n",
       "      <td>1.122838</td>\n",
       "      <td>1.123343</td>\n",
       "      <td>0</td>\n",
       "    </tr>\n",
       "  </tbody>\n",
       "</table>\n",
       "</div>"
      ],
      "text/plain": [
       "Price                         Close      High       Low      Open   Volume\n",
       "Ticker                     EURUSD=X  EURUSD=X  EURUSD=X  EURUSD=X EURUSD=X\n",
       "Datetime                                                                  \n",
       "2025-05-11 23:00:00+00:00  1.123091  1.123848  1.122712  1.122965        0\n",
       "2025-05-12 00:00:00+00:00  1.124101  1.124101  1.122838  1.123343        0\n",
       "2025-05-12 01:00:00+00:00  1.122965  1.124480  1.122712  1.124354        0\n",
       "2025-05-12 02:00:00+00:00  1.123217  1.124101  1.122965  1.122965        0\n",
       "2025-05-12 03:00:00+00:00  1.123595  1.123722  1.122838  1.123343        0"
      ]
     },
     "execution_count": 2,
     "metadata": {},
     "output_type": "execute_result"
    }
   ],
   "source": [
    "# Fetch the daily data for the EURUSD currency pair\n",
    "data = yf.download(\n",
    "    tickers=\"EURUSD=X\",\n",
    "    period=\"5d\",\n",
    "    interval=\"1h\",\n",
    "    progress=False\n",
    ")\n",
    "\n",
    "# Print a few rows of the data\n",
    "data.head()"
   ]
  },
  {
   "cell_type": "code",
   "execution_count": 3,
   "id": "46ad49d1",
   "metadata": {},
   "outputs": [
    {
     "data": {
      "application/vnd.plotly.v1+json": {
       "config": {
        "plotlyServerURL": "https://plot.ly"
       },
       "data": [
        {
         "close": {
          "bdata": "AAAAAC748T8AAAAgUfzxPwAAAMCp9/E/AAAAQLL48T8AAABAP/rxPwAAAAAu+PE/AAAAQB328T8AAADgkPTxPwAAAKAZxvE/AAAAoEfT8T8AAADAqsvxPwAAAECEvPE/AAAA4J3H8T8AAACAIsnxPwAAAGAszPE/AAAAAKHI8T8AAAAgmMXxPwAAAACGvfE/AAAAoIK78T8AAADgib/xPwAAAACMwPE/AAAA4Ie+8T8AAADgCsDxPwAAACANwfE/AAAAYA/C8T8AAACgGcbxPwAAAIAcx/E/AAAA4BbF8T8AAABgp8rxPwAAAGCnyvE/AAAAYB/I8T8AAAAAocjxPwAAAACkyfE/AAAAgCLJ8T8AAAAAm8bxPwAAAKAZxvE/AAAAAJvG8T8AAABguc/xPwAAAGBD0vE/AAAAYHjd8T8AAAAgleLxPwAAACAY4/E/AAAAQJvj8T8AAABArubxPwAAAIC76PE/AAAAQK7m8T8AAABAOOjxPwAAAEDJ6vE/AAAA4LTn8T8AAADgPunxPwAAAOC05/E/AAAAQDjo8T8AAABAyerxPwAAAEA46PE/AAAAQK7m8T8AAADgtOfxPwAAAOAE8/E/AAAAgNX88T8AAAAgiQLyPwAAAEA/+vE/AAAA4Ijz8T8AAADAqffxPwAAAEAd9vE/AAAAIHnx8T8AAABgYu7xPwAAAOA+6fE/AAAAQDjo8T8AAABgHuTxPwAAAICD3/E/AAAAIBLi8T8AAABAm+PxPwAAAMCn5fE/AAAAwKfl8T8AAABgwunxPwAAAMBF6vE/AAAAQMnq8T8AAADATOvxPwAAAGDC6fE/AAAA4D7p8T8AAAAALvjxPwAAAOBT7PE/AAAAQPXw8T8AAAAgW+3xPwAAAIDX7PE/AAAAoCTl8T8AAAAgefHxPwAAAIDX7PE/AAAAgDHn8T8AAADgtOfxPwAAAGCh5PE/AAAAIAzh8T8AAAAgGOPxPwAAAECu5vE/AAAAQK7m8T8AAACAu+jxPwAAAGDC6fE/AAAAYMLp8T8AAAAg5u7xPwAAAMDe7fE/AAAAwN7t8T8AAACA1+zxPwAAAGBi7vE/AAAA4Az08T8AAAAA/fHxPwAAAKDt7/E/AAAA4FPs8T8AAADARerxPwAAAOBT7PE/AAAAwEXq8T8AAADATOvxPwAAACBb7fE/AAAAAObZ8T8AAABAztTxPwAAAIBQ1fE/AAAAAFXW8T8AAACAY9nxPwAAACDc1/E/AAAA4H3e8T8AAAAg+93xPw==",
          "dtype": "f8"
         },
         "high": {
          "bdata": "AAAAIEj78T8AAAAgUfzxPwAAAKDe/fE/AAAAIFH88T8AAACgw/rxPwAAAKDD+vE/AAAAgDb58T8AAACgw/rxPwAAAEDJ6vE/AAAAwNLV8T8AAABAztTxPwAAAACkyfE/AAAAYKfK8T8AAACgM87xPwAAAEC90PE/AAAAQD/R8T8AAADAsc3xPwAAAGAfyPE/AAAA4Ai/8T8AAADgCsDxPwAAAGAPwvE/AAAAQI7B8T8AAADAEcPxPwAAAECOwfE/AAAAAJPD8T8AAACgGcbxPwAAAIAcx/E/AAAAYB/I8T8AAABgp8rxPwAAAGCnyvE/AAAAACnL8T8AAABgp8rxPwAAAAAwzfE/AAAAACnL8T8AAACAIsnxPwAAAOCdx/E/AAAAYB/I8T8AAABgO9DxPwAAAMBZ1/E/AAAAIPvd8T8AAABAm+PxPwAAAKAk5fE/AAAAYKHk8T8AAACAMefxPwAAAOA+6fE/AAAAQMnq8T8AAACAu+jxPwAAAMBM6/E/AAAAwEzr8T8AAABAyerxPwAAAMBM6/E/AAAA4D7p8T8AAABAyerxPwAAAIDX7PE/AAAA4D7p8T8AAABg0OvxPwAAAOCI8/E/AAAAgH8B8j8AAAAgNgfyPwAAACCJAvI/AAAAoMP68T8AAAAgSPvxPwAAAKDD+vE/AAAAABX18T8AAADgBPPxPwAAACB58fE/AAAAwEzr8T8AAABAOOjxPwAAACAY4/E/AAAAIJXi8T8AAABgoeTxPwAAAECu5vE/AAAA4LTn8T8AAADARerxPwAAAOBT7PE/AAAAwEzr8T8AAACA1+zxPwAAAOBT7PE/AAAAYNDr8T8AAAAALvjxPwAAAAAu+PE/AAAAQPXw8T8AAAAA/fHxPwAAAED18PE/AAAAwN7t8T8AAAAA/fHxPwAAAACZ9fE/AAAAoO3v8T8AAABAyerxPwAAAIC76PE/AAAA4LTn8T8AAABgoeTxPwAAAECu5vE/AAAA4LTn8T8AAABg0OvxPwAAAGDC6fE/AAAAwEXq8T8AAACg7e/xPwAAAKDt7/E/AAAAoO3v8T8AAAAg5u7xPwAAAGBi7vE/AAAA4Az08T8AAADgkPTxPwAAAOAE8/E/AAAAoO3v8T8AAACg7e/xPwAAAIDX7PE/AAAA4Gnv8T8AAADgU+zxPwAAAGBi7vE/AAAAgNfs8T8AAABg8NvxPwAAAGDX1vE/AAAAwFnX8T8AAACAaNrxPwAAAKBt2/E/AAAAwADf8T8AAAAg+93xPw==",
          "dtype": "f8"
         },
         "low": {
          "bdata": "AAAAYKH28T8AAACAJffxPwAAAGCh9vE/AAAAwKn38T8AAACAJffxPwAAAMCp9/E/AAAAAIHy8T8AAADgiPPxPwAAAACTw/E/AAAA4Im/8T8AAABgp8rxPwAAAGB+uPE/AAAAYAC68T8AAABAFMTxPwAAAIAiyfE/AAAAgBzH8T8AAACAlcTxPwAAAACGvfE/AAAAAP+48T8AAAAgfLbxPwAAACAFvfE/AAAA4Ie+8T8AAAAgBb3xPwAAAOAIv/E/AAAA4Im/8T8AAACAkMLxPwAAAEAUxPE/AAAAAJPD8T8AAAAAk8PxPwAAAOCdx/E/AAAA4J3H8T8AAACAlcTxPwAAACCYxfE/AAAA4BbF8T8AAADgFsXxPwAAAMARw/E/AAAAIJjF8T8AAACAHMfxPwAAAGC5z/E/AAAAYDvQ8T8AAACgbdvxPwAAAOB93vE/AAAAYAbg8T8AAAAgGOPxPwAAAAAr5vE/AAAAQK7m8T8AAABArubxPwAAAOC05/E/AAAAgDHn8T8AAADAp+XxPwAAAAAr5vE/AAAAACvm8T8AAABArubxPwAAAEA46PE/AAAAQK7m8T8AAADAp+XxPwAAAAAr5vE/AAAAAIHy8T8AAADguvnxPwAAAECy+PE/AAAAAIHy8T8AAABA9fDxPwAAACB58fE/AAAAwN7t8T8AAADgU+zxPwAAAECb4/E/AAAAwKfl8T8AAAAgEuLxPwAAAMAA3/E/AAAA4H3e8T8AAABgBuDxPwAAAGAe5PE/AAAAYKHk8T8AAAAgGOPxPwAAAOA+6fE/AAAAgLvo8T8AAABgwunxPwAAAGDC6fE/AAAAgDHn8T8AAACAu+jxPwAAAMBF6vE/AAAAwEXq8T8AAAAgW+3xPwAAAOBT7PE/AAAAoCTl8T8AAADAp+XxPwAAAEDJ6vE/AAAAIBjj8T8AAAAgleLxPwAAACCP4fE/AAAAIAzh8T8AAAAgDOHxPwAAACCP4fE/AAAAwKfl8T8AAADAp+XxPwAAAIAx5/E/AAAAgLvo8T8AAACAu+jxPwAAAOBT7PE/AAAAgNfs8T8AAACA1+zxPwAAAMBM6/E/AAAAIFvt8T8AAABgcfDxPwAAAKDt7/E/AAAAYNDr8T8AAADARerxPwAAAEA46PE/AAAA4D7p8T8AAADgPunxPwAAAGDC6fE/AAAAgGPZ8T8AAABAztTxPwAAAEC90PE/AAAAAEzU8T8AAADA0tXxPwAAACDc1/E/AAAAYNfW8T8AAAAg+93xPw==",
          "dtype": "f8"
         },
         "open": {
          "bdata": "AAAAwKn38T8AAACANvnxPwAAACBa/fE/AAAAwKn38T8AAACANvnxPwAAAOC6+fE/AAAAAC748T8AAACAJffxPwAAAEDJ6vE/AAAAoBnG8T8AAABgQ9LxPwAAAACkyfE/AAAAYAC68T8AAACgGcbxPwAAAIAiyfE/AAAAACnL8T8AAABgH8jxPwAAAACbxvE/AAAAAAe+8T8AAACggrvxPwAAAOAKwPE/AAAAAIzA8T8AAAAgBb3xPwAAAOAIv/E/AAAAIA3B8T8AAACAkMLxPwAAAOAWxfE/AAAAgBzH8T8AAAAgmMXxPwAAAGCnyvE/AAAAYKfK8T8AAABgH8jxPwAAAGAfyPE/AAAAACnL8T8AAABgH8jxPwAAAIAcx/E/AAAAoBnG8T8AAACAHMfxPwAAAGC5z/E/AAAAYEPS8T8AAADA9dzxPwAAACAY4/E/AAAAIBjj8T8AAABAm+PxPwAAAIAx5/E/AAAAQDjo8T8AAABAOOjxPwAAAIC76PE/AAAAwEzr8T8AAADgtOfxPwAAAOA+6fE/AAAA4LTn8T8AAADgtOfxPwAAAIDX7PE/AAAA4LTn8T8AAABAOOjxPwAAAOC05/E/AAAAAIHy8T8AAACA1fzxPwAAAIB/AfI/AAAAgDb58T8AAADgkPTxPwAAAACZ9fE/AAAA4Az08T8AAAAA/fHxPwAAACDm7vE/AAAAgLvo8T8AAABAOOjxPwAAACAY4/E/AAAAYAbg8T8AAAAgj+HxPwAAAGAe5PE/AAAAACvm8T8AAACgJOXxPwAAAMBF6vE/AAAAwEXq8T8AAABAyerxPwAAAOBT7PE/AAAA4D7p8T8AAABgwunxPwAAAAAu+PE/AAAAwEzr8T8AAABgcfDxPwAAACBb7fE/AAAAYNDr8T8AAADAp+XxPwAAAACB8vE/AAAAIObu8T8AAADgtOfxPwAAAEA46PE/AAAAoCTl8T8AAAAgDOHxPwAAAECb4/E/AAAAQK7m8T8AAABgwunxPwAAAIAx5/E/AAAAwEXq8T8AAACAu+jxPwAAAGBi7vE/AAAAwN7t8T8AAADA3u3xPwAAAIDX7PE/AAAAIFvt8T8AAADgBPPxPwAAACB58fE/AAAAIObu8T8AAADgU+zxPwAAAMBF6vE/AAAAgNfs8T8AAADARerxPwAAAMBM6/E/AAAAgNfs8T8AAACAaNrxPwAAAMDS1fE/AAAAYNfW8T8AAAAAVdbxPwAAAIBo2vE/AAAAgF7Y8T8AAAAg+93xPw==",
          "dtype": "f8"
         },
         "type": "candlestick",
         "x": [
          "2025-05-11T23:00:00+00:00",
          "2025-05-12T00:00:00+00:00",
          "2025-05-12T01:00:00+00:00",
          "2025-05-12T02:00:00+00:00",
          "2025-05-12T03:00:00+00:00",
          "2025-05-12T04:00:00+00:00",
          "2025-05-12T05:00:00+00:00",
          "2025-05-12T06:00:00+00:00",
          "2025-05-12T07:00:00+00:00",
          "2025-05-12T08:00:00+00:00",
          "2025-05-12T09:00:00+00:00",
          "2025-05-12T10:00:00+00:00",
          "2025-05-12T11:00:00+00:00",
          "2025-05-12T12:00:00+00:00",
          "2025-05-12T13:00:00+00:00",
          "2025-05-12T14:00:00+00:00",
          "2025-05-12T15:00:00+00:00",
          "2025-05-12T16:00:00+00:00",
          "2025-05-12T17:00:00+00:00",
          "2025-05-12T18:00:00+00:00",
          "2025-05-12T19:00:00+00:00",
          "2025-05-12T20:00:00+00:00",
          "2025-05-12T21:00:00+00:00",
          "2025-05-12T22:00:00+00:00",
          "2025-05-12T23:00:00+00:00",
          "2025-05-13T00:00:00+00:00",
          "2025-05-13T01:00:00+00:00",
          "2025-05-13T02:00:00+00:00",
          "2025-05-13T03:00:00+00:00",
          "2025-05-13T04:00:00+00:00",
          "2025-05-13T05:00:00+00:00",
          "2025-05-13T06:00:00+00:00",
          "2025-05-13T07:00:00+00:00",
          "2025-05-13T08:00:00+00:00",
          "2025-05-13T09:00:00+00:00",
          "2025-05-13T10:00:00+00:00",
          "2025-05-13T11:00:00+00:00",
          "2025-05-13T12:00:00+00:00",
          "2025-05-13T13:00:00+00:00",
          "2025-05-13T14:00:00+00:00",
          "2025-05-13T15:00:00+00:00",
          "2025-05-13T16:00:00+00:00",
          "2025-05-13T17:00:00+00:00",
          "2025-05-13T18:00:00+00:00",
          "2025-05-13T19:00:00+00:00",
          "2025-05-13T20:00:00+00:00",
          "2025-05-13T21:00:00+00:00",
          "2025-05-13T22:00:00+00:00",
          "2025-05-13T23:00:00+00:00",
          "2025-05-14T00:00:00+00:00",
          "2025-05-14T01:00:00+00:00",
          "2025-05-14T02:00:00+00:00",
          "2025-05-14T03:00:00+00:00",
          "2025-05-14T04:00:00+00:00",
          "2025-05-14T05:00:00+00:00",
          "2025-05-14T06:00:00+00:00",
          "2025-05-14T07:00:00+00:00",
          "2025-05-14T08:00:00+00:00",
          "2025-05-14T09:00:00+00:00",
          "2025-05-14T10:00:00+00:00",
          "2025-05-14T11:00:00+00:00",
          "2025-05-14T12:00:00+00:00",
          "2025-05-14T13:00:00+00:00",
          "2025-05-14T14:00:00+00:00",
          "2025-05-14T15:00:00+00:00",
          "2025-05-14T16:00:00+00:00",
          "2025-05-14T17:00:00+00:00",
          "2025-05-14T18:00:00+00:00",
          "2025-05-14T19:00:00+00:00",
          "2025-05-14T20:00:00+00:00",
          "2025-05-14T21:00:00+00:00",
          "2025-05-14T22:00:00+00:00",
          "2025-05-14T23:00:00+00:00",
          "2025-05-15T00:00:00+00:00",
          "2025-05-15T01:00:00+00:00",
          "2025-05-15T02:00:00+00:00",
          "2025-05-15T03:00:00+00:00",
          "2025-05-15T04:00:00+00:00",
          "2025-05-15T05:00:00+00:00",
          "2025-05-15T06:00:00+00:00",
          "2025-05-15T07:00:00+00:00",
          "2025-05-15T08:00:00+00:00",
          "2025-05-15T09:00:00+00:00",
          "2025-05-15T10:00:00+00:00",
          "2025-05-15T11:00:00+00:00",
          "2025-05-15T12:00:00+00:00",
          "2025-05-15T13:00:00+00:00",
          "2025-05-15T14:00:00+00:00",
          "2025-05-15T15:00:00+00:00",
          "2025-05-15T16:00:00+00:00",
          "2025-05-15T17:00:00+00:00",
          "2025-05-15T18:00:00+00:00",
          "2025-05-15T19:00:00+00:00",
          "2025-05-15T20:00:00+00:00",
          "2025-05-15T21:00:00+00:00",
          "2025-05-15T22:00:00+00:00",
          "2025-05-15T23:00:00+00:00",
          "2025-05-16T00:00:00+00:00",
          "2025-05-16T01:00:00+00:00",
          "2025-05-16T02:00:00+00:00",
          "2025-05-16T03:00:00+00:00",
          "2025-05-16T04:00:00+00:00",
          "2025-05-16T05:00:00+00:00",
          "2025-05-16T06:00:00+00:00",
          "2025-05-16T07:00:00+00:00",
          "2025-05-16T08:00:00+00:00",
          "2025-05-16T09:00:00+00:00",
          "2025-05-16T10:00:00+00:00",
          "2025-05-16T11:00:00+00:00",
          "2025-05-16T12:00:00+00:00",
          "2025-05-16T13:00:00+00:00",
          "2025-05-16T14:00:00+00:00",
          "2025-05-16T15:00:00+00:00",
          "2025-05-16T16:00:00+00:00",
          "2025-05-16T17:00:00+00:00",
          "2025-05-16T18:00:00+00:00",
          "2025-05-16T19:00:00+00:00",
          "2025-05-16T20:00:00+00:00",
          "2025-05-16T21:00:00+00:00"
         ]
        }
       ],
       "layout": {
        "template": {
         "data": {
          "bar": [
           {
            "error_x": {
             "color": "#2a3f5f"
            },
            "error_y": {
             "color": "#2a3f5f"
            },
            "marker": {
             "line": {
              "color": "#E5ECF6",
              "width": 0.5
             },
             "pattern": {
              "fillmode": "overlay",
              "size": 10,
              "solidity": 0.2
             }
            },
            "type": "bar"
           }
          ],
          "barpolar": [
           {
            "marker": {
             "line": {
              "color": "#E5ECF6",
              "width": 0.5
             },
             "pattern": {
              "fillmode": "overlay",
              "size": 10,
              "solidity": 0.2
             }
            },
            "type": "barpolar"
           }
          ],
          "carpet": [
           {
            "aaxis": {
             "endlinecolor": "#2a3f5f",
             "gridcolor": "white",
             "linecolor": "white",
             "minorgridcolor": "white",
             "startlinecolor": "#2a3f5f"
            },
            "baxis": {
             "endlinecolor": "#2a3f5f",
             "gridcolor": "white",
             "linecolor": "white",
             "minorgridcolor": "white",
             "startlinecolor": "#2a3f5f"
            },
            "type": "carpet"
           }
          ],
          "choropleth": [
           {
            "colorbar": {
             "outlinewidth": 0,
             "ticks": ""
            },
            "type": "choropleth"
           }
          ],
          "contour": [
           {
            "colorbar": {
             "outlinewidth": 0,
             "ticks": ""
            },
            "colorscale": [
             [
              0,
              "#0d0887"
             ],
             [
              0.1111111111111111,
              "#46039f"
             ],
             [
              0.2222222222222222,
              "#7201a8"
             ],
             [
              0.3333333333333333,
              "#9c179e"
             ],
             [
              0.4444444444444444,
              "#bd3786"
             ],
             [
              0.5555555555555556,
              "#d8576b"
             ],
             [
              0.6666666666666666,
              "#ed7953"
             ],
             [
              0.7777777777777778,
              "#fb9f3a"
             ],
             [
              0.8888888888888888,
              "#fdca26"
             ],
             [
              1,
              "#f0f921"
             ]
            ],
            "type": "contour"
           }
          ],
          "contourcarpet": [
           {
            "colorbar": {
             "outlinewidth": 0,
             "ticks": ""
            },
            "type": "contourcarpet"
           }
          ],
          "heatmap": [
           {
            "colorbar": {
             "outlinewidth": 0,
             "ticks": ""
            },
            "colorscale": [
             [
              0,
              "#0d0887"
             ],
             [
              0.1111111111111111,
              "#46039f"
             ],
             [
              0.2222222222222222,
              "#7201a8"
             ],
             [
              0.3333333333333333,
              "#9c179e"
             ],
             [
              0.4444444444444444,
              "#bd3786"
             ],
             [
              0.5555555555555556,
              "#d8576b"
             ],
             [
              0.6666666666666666,
              "#ed7953"
             ],
             [
              0.7777777777777778,
              "#fb9f3a"
             ],
             [
              0.8888888888888888,
              "#fdca26"
             ],
             [
              1,
              "#f0f921"
             ]
            ],
            "type": "heatmap"
           }
          ],
          "histogram": [
           {
            "marker": {
             "pattern": {
              "fillmode": "overlay",
              "size": 10,
              "solidity": 0.2
             }
            },
            "type": "histogram"
           }
          ],
          "histogram2d": [
           {
            "colorbar": {
             "outlinewidth": 0,
             "ticks": ""
            },
            "colorscale": [
             [
              0,
              "#0d0887"
             ],
             [
              0.1111111111111111,
              "#46039f"
             ],
             [
              0.2222222222222222,
              "#7201a8"
             ],
             [
              0.3333333333333333,
              "#9c179e"
             ],
             [
              0.4444444444444444,
              "#bd3786"
             ],
             [
              0.5555555555555556,
              "#d8576b"
             ],
             [
              0.6666666666666666,
              "#ed7953"
             ],
             [
              0.7777777777777778,
              "#fb9f3a"
             ],
             [
              0.8888888888888888,
              "#fdca26"
             ],
             [
              1,
              "#f0f921"
             ]
            ],
            "type": "histogram2d"
           }
          ],
          "histogram2dcontour": [
           {
            "colorbar": {
             "outlinewidth": 0,
             "ticks": ""
            },
            "colorscale": [
             [
              0,
              "#0d0887"
             ],
             [
              0.1111111111111111,
              "#46039f"
             ],
             [
              0.2222222222222222,
              "#7201a8"
             ],
             [
              0.3333333333333333,
              "#9c179e"
             ],
             [
              0.4444444444444444,
              "#bd3786"
             ],
             [
              0.5555555555555556,
              "#d8576b"
             ],
             [
              0.6666666666666666,
              "#ed7953"
             ],
             [
              0.7777777777777778,
              "#fb9f3a"
             ],
             [
              0.8888888888888888,
              "#fdca26"
             ],
             [
              1,
              "#f0f921"
             ]
            ],
            "type": "histogram2dcontour"
           }
          ],
          "mesh3d": [
           {
            "colorbar": {
             "outlinewidth": 0,
             "ticks": ""
            },
            "type": "mesh3d"
           }
          ],
          "parcoords": [
           {
            "line": {
             "colorbar": {
              "outlinewidth": 0,
              "ticks": ""
             }
            },
            "type": "parcoords"
           }
          ],
          "pie": [
           {
            "automargin": true,
            "type": "pie"
           }
          ],
          "scatter": [
           {
            "fillpattern": {
             "fillmode": "overlay",
             "size": 10,
             "solidity": 0.2
            },
            "type": "scatter"
           }
          ],
          "scatter3d": [
           {
            "line": {
             "colorbar": {
              "outlinewidth": 0,
              "ticks": ""
             }
            },
            "marker": {
             "colorbar": {
              "outlinewidth": 0,
              "ticks": ""
             }
            },
            "type": "scatter3d"
           }
          ],
          "scattercarpet": [
           {
            "marker": {
             "colorbar": {
              "outlinewidth": 0,
              "ticks": ""
             }
            },
            "type": "scattercarpet"
           }
          ],
          "scattergeo": [
           {
            "marker": {
             "colorbar": {
              "outlinewidth": 0,
              "ticks": ""
             }
            },
            "type": "scattergeo"
           }
          ],
          "scattergl": [
           {
            "marker": {
             "colorbar": {
              "outlinewidth": 0,
              "ticks": ""
             }
            },
            "type": "scattergl"
           }
          ],
          "scattermap": [
           {
            "marker": {
             "colorbar": {
              "outlinewidth": 0,
              "ticks": ""
             }
            },
            "type": "scattermap"
           }
          ],
          "scattermapbox": [
           {
            "marker": {
             "colorbar": {
              "outlinewidth": 0,
              "ticks": ""
             }
            },
            "type": "scattermapbox"
           }
          ],
          "scatterpolar": [
           {
            "marker": {
             "colorbar": {
              "outlinewidth": 0,
              "ticks": ""
             }
            },
            "type": "scatterpolar"
           }
          ],
          "scatterpolargl": [
           {
            "marker": {
             "colorbar": {
              "outlinewidth": 0,
              "ticks": ""
             }
            },
            "type": "scatterpolargl"
           }
          ],
          "scatterternary": [
           {
            "marker": {
             "colorbar": {
              "outlinewidth": 0,
              "ticks": ""
             }
            },
            "type": "scatterternary"
           }
          ],
          "surface": [
           {
            "colorbar": {
             "outlinewidth": 0,
             "ticks": ""
            },
            "colorscale": [
             [
              0,
              "#0d0887"
             ],
             [
              0.1111111111111111,
              "#46039f"
             ],
             [
              0.2222222222222222,
              "#7201a8"
             ],
             [
              0.3333333333333333,
              "#9c179e"
             ],
             [
              0.4444444444444444,
              "#bd3786"
             ],
             [
              0.5555555555555556,
              "#d8576b"
             ],
             [
              0.6666666666666666,
              "#ed7953"
             ],
             [
              0.7777777777777778,
              "#fb9f3a"
             ],
             [
              0.8888888888888888,
              "#fdca26"
             ],
             [
              1,
              "#f0f921"
             ]
            ],
            "type": "surface"
           }
          ],
          "table": [
           {
            "cells": {
             "fill": {
              "color": "#EBF0F8"
             },
             "line": {
              "color": "white"
             }
            },
            "header": {
             "fill": {
              "color": "#C8D4E3"
             },
             "line": {
              "color": "white"
             }
            },
            "type": "table"
           }
          ]
         },
         "layout": {
          "annotationdefaults": {
           "arrowcolor": "#2a3f5f",
           "arrowhead": 0,
           "arrowwidth": 1
          },
          "autotypenumbers": "strict",
          "coloraxis": {
           "colorbar": {
            "outlinewidth": 0,
            "ticks": ""
           }
          },
          "colorscale": {
           "diverging": [
            [
             0,
             "#8e0152"
            ],
            [
             0.1,
             "#c51b7d"
            ],
            [
             0.2,
             "#de77ae"
            ],
            [
             0.3,
             "#f1b6da"
            ],
            [
             0.4,
             "#fde0ef"
            ],
            [
             0.5,
             "#f7f7f7"
            ],
            [
             0.6,
             "#e6f5d0"
            ],
            [
             0.7,
             "#b8e186"
            ],
            [
             0.8,
             "#7fbc41"
            ],
            [
             0.9,
             "#4d9221"
            ],
            [
             1,
             "#276419"
            ]
           ],
           "sequential": [
            [
             0,
             "#0d0887"
            ],
            [
             0.1111111111111111,
             "#46039f"
            ],
            [
             0.2222222222222222,
             "#7201a8"
            ],
            [
             0.3333333333333333,
             "#9c179e"
            ],
            [
             0.4444444444444444,
             "#bd3786"
            ],
            [
             0.5555555555555556,
             "#d8576b"
            ],
            [
             0.6666666666666666,
             "#ed7953"
            ],
            [
             0.7777777777777778,
             "#fb9f3a"
            ],
            [
             0.8888888888888888,
             "#fdca26"
            ],
            [
             1,
             "#f0f921"
            ]
           ],
           "sequentialminus": [
            [
             0,
             "#0d0887"
            ],
            [
             0.1111111111111111,
             "#46039f"
            ],
            [
             0.2222222222222222,
             "#7201a8"
            ],
            [
             0.3333333333333333,
             "#9c179e"
            ],
            [
             0.4444444444444444,
             "#bd3786"
            ],
            [
             0.5555555555555556,
             "#d8576b"
            ],
            [
             0.6666666666666666,
             "#ed7953"
            ],
            [
             0.7777777777777778,
             "#fb9f3a"
            ],
            [
             0.8888888888888888,
             "#fdca26"
            ],
            [
             1,
             "#f0f921"
            ]
           ]
          },
          "colorway": [
           "#636efa",
           "#EF553B",
           "#00cc96",
           "#ab63fa",
           "#FFA15A",
           "#19d3f3",
           "#FF6692",
           "#B6E880",
           "#FF97FF",
           "#FECB52"
          ],
          "font": {
           "color": "#2a3f5f"
          },
          "geo": {
           "bgcolor": "white",
           "lakecolor": "white",
           "landcolor": "#E5ECF6",
           "showlakes": true,
           "showland": true,
           "subunitcolor": "white"
          },
          "hoverlabel": {
           "align": "left"
          },
          "hovermode": "closest",
          "mapbox": {
           "style": "light"
          },
          "paper_bgcolor": "white",
          "plot_bgcolor": "#E5ECF6",
          "polar": {
           "angularaxis": {
            "gridcolor": "white",
            "linecolor": "white",
            "ticks": ""
           },
           "bgcolor": "#E5ECF6",
           "radialaxis": {
            "gridcolor": "white",
            "linecolor": "white",
            "ticks": ""
           }
          },
          "scene": {
           "xaxis": {
            "backgroundcolor": "#E5ECF6",
            "gridcolor": "white",
            "gridwidth": 2,
            "linecolor": "white",
            "showbackground": true,
            "ticks": "",
            "zerolinecolor": "white"
           },
           "yaxis": {
            "backgroundcolor": "#E5ECF6",
            "gridcolor": "white",
            "gridwidth": 2,
            "linecolor": "white",
            "showbackground": true,
            "ticks": "",
            "zerolinecolor": "white"
           },
           "zaxis": {
            "backgroundcolor": "#E5ECF6",
            "gridcolor": "white",
            "gridwidth": 2,
            "linecolor": "white",
            "showbackground": true,
            "ticks": "",
            "zerolinecolor": "white"
           }
          },
          "shapedefaults": {
           "line": {
            "color": "#2a3f5f"
           }
          },
          "ternary": {
           "aaxis": {
            "gridcolor": "white",
            "linecolor": "white",
            "ticks": ""
           },
           "baxis": {
            "gridcolor": "white",
            "linecolor": "white",
            "ticks": ""
           },
           "bgcolor": "#E5ECF6",
           "caxis": {
            "gridcolor": "white",
            "linecolor": "white",
            "ticks": ""
           }
          },
          "title": {
           "x": 0.05
          },
          "xaxis": {
           "automargin": true,
           "gridcolor": "white",
           "linecolor": "white",
           "ticks": "",
           "title": {
            "standoff": 15
           },
           "zerolinecolor": "white",
           "zerolinewidth": 2
          },
          "yaxis": {
           "automargin": true,
           "gridcolor": "white",
           "linecolor": "white",
           "ticks": "",
           "title": {
            "standoff": 15
           },
           "zerolinecolor": "white",
           "zerolinewidth": 2
          }
         }
        },
        "xaxis": {
         "rangeslider": {
          "visible": false
         }
        }
       }
      }
     },
     "metadata": {},
     "output_type": "display_data"
    }
   ],
   "source": [
    "# Visualize data as a candlestick chart\n",
    "fig = go.Figure(\n",
    "    data=go.Candlestick(\n",
    "        x=data.index,\n",
    "        open=data.Open.values.flatten(),\n",
    "        close=data.Close.values.flatten(),\n",
    "        high=data.High.values.flatten(),\n",
    "        low=data.Low.values.flatten()\n",
    "    )\n",
    ")\n",
    "\n",
    "# Hide the slider\n",
    "fig.update_layout(xaxis_rangeslider_visible=False)\n",
    "fig.show()"
   ]
  }
 ],
 "metadata": {
  "kernelspec": {
   "display_name": "forex_trading-FF_sWRAQ",
   "language": "python",
   "name": "python3"
  },
  "language_info": {
   "codemirror_mode": {
    "name": "ipython",
    "version": 3
   },
   "file_extension": ".py",
   "mimetype": "text/x-python",
   "name": "python",
   "nbconvert_exporter": "python",
   "pygments_lexer": "ipython3",
   "version": "3.12.0"
  }
 },
 "nbformat": 4,
 "nbformat_minor": 5
}
